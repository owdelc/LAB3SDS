{
 "cells": [
  {
   "attachments": {},
   "cell_type": "markdown",
   "id": "9b755d2f",
   "metadata": {},
   "source": [
    "# Laboratorio 3 - Deteccion de malware"
   ]
  },
  {
   "attachments": {},
   "cell_type": "markdown",
   "id": "03e7b204",
   "metadata": {},
   "source": [
    "### Importacion de librerias"
   ]
  },
  {
   "cell_type": "code",
   "execution_count": 15,
   "id": "fb13db26",
   "metadata": {},
   "outputs": [],
   "source": [
    "import pandas as pd\n",
    "import numpy as np\n",
    "import seaborn as sns\n",
    "from sklearn.metrics import *\n",
    "from sklearn import metrics\n",
    "from quickda.explore_data import *\n"
   ]
  },
  {
   "attachments": {},
   "cell_type": "markdown",
   "id": "17eeef69",
   "metadata": {},
   "source": [
    "### Carga de dataset"
   ]
  },
  {
   "cell_type": "code",
   "execution_count": 16,
   "id": "0d838415",
   "metadata": {},
   "outputs": [],
   "source": [
    "ds = pd.read_csv(\"VirusSample.csv\")"
   ]
  },
  {
   "attachments": {},
   "cell_type": "markdown",
   "id": "fc36fa53",
   "metadata": {},
   "source": [
    "### Analisis exploratorio"
   ]
  },
  {
   "cell_type": "code",
   "execution_count": 17,
   "id": "ee4bd1e0",
   "metadata": {},
   "outputs": [
    {
     "name": "stdout",
     "output_type": "stream",
     "text": [
      "<class 'pandas.core.frame.DataFrame'>\n",
      "RangeIndex: 9795 entries, 0 to 9794\n",
      "Data columns (total 3 columns):\n",
      " #   Column  Non-Null Count  Dtype \n",
      "---  ------  --------------  ----- \n",
      " 0   file    9795 non-null   object\n",
      " 1   api     9795 non-null   object\n",
      " 2   class   9795 non-null   object\n",
      "dtypes: object(3)\n",
      "memory usage: 229.7+ KB\n"
     ]
    }
   ],
   "source": [
    "ds.info()"
   ]
  },
  {
   "cell_type": "code",
   "execution_count": 18,
   "id": "2efc75ef",
   "metadata": {},
   "outputs": [
    {
     "data": {
      "text/html": [
       "<div>\n",
       "<style scoped>\n",
       "    .dataframe tbody tr th:only-of-type {\n",
       "        vertical-align: middle;\n",
       "    }\n",
       "\n",
       "    .dataframe tbody tr th {\n",
       "        vertical-align: top;\n",
       "    }\n",
       "\n",
       "    .dataframe thead th {\n",
       "        text-align: right;\n",
       "    }\n",
       "</style>\n",
       "<table border=\"1\" class=\"dataframe\">\n",
       "  <thead>\n",
       "    <tr style=\"text-align: right;\">\n",
       "      <th></th>\n",
       "      <th>file</th>\n",
       "      <th>api</th>\n",
       "      <th>class</th>\n",
       "    </tr>\n",
       "  </thead>\n",
       "  <tbody>\n",
       "    <tr>\n",
       "      <th>0</th>\n",
       "      <td>7ff49f2f0912352416b05c010f35f402cc79feed</td>\n",
       "      <td>IntersectRect,GetCurrentProcess,GetVersion</td>\n",
       "      <td>Virus</td>\n",
       "    </tr>\n",
       "    <tr>\n",
       "      <th>1</th>\n",
       "      <td>50cc6c99ec285d0db45dde07d8fdc18d9098c5b6</td>\n",
       "      <td>GetCaretBlinkTime,CountClipboardFormats,GetCon...</td>\n",
       "      <td>Virus</td>\n",
       "    </tr>\n",
       "    <tr>\n",
       "      <th>2</th>\n",
       "      <td>f77c6bd4aebacd1a01d02e0cb20642ebf2d32929</td>\n",
       "      <td>VarR8Pow,GetClipboardViewer,GetInputDesktop,Ge...</td>\n",
       "      <td>Virus</td>\n",
       "    </tr>\n",
       "    <tr>\n",
       "      <th>3</th>\n",
       "      <td>349c367c5b88fbb6cafae5d7109588d7250e16b5</td>\n",
       "      <td>SetTraceCallback,CopyAcceleratorTableW,GetProc...</td>\n",
       "      <td>Virus</td>\n",
       "    </tr>\n",
       "    <tr>\n",
       "      <th>4</th>\n",
       "      <td>021f4aa86b520e1d606ab26699c35546bcd00c27</td>\n",
       "      <td>SHLoadNonloadedIconOverlayIdentifiers,VarUI8Fr...</td>\n",
       "      <td>Virus</td>\n",
       "    </tr>\n",
       "  </tbody>\n",
       "</table>\n",
       "</div>"
      ],
      "text/plain": [
       "                                       file  \\\n",
       "0  7ff49f2f0912352416b05c010f35f402cc79feed   \n",
       "1  50cc6c99ec285d0db45dde07d8fdc18d9098c5b6   \n",
       "2  f77c6bd4aebacd1a01d02e0cb20642ebf2d32929   \n",
       "3  349c367c5b88fbb6cafae5d7109588d7250e16b5   \n",
       "4  021f4aa86b520e1d606ab26699c35546bcd00c27   \n",
       "\n",
       "                                                 api  class  \n",
       "0         IntersectRect,GetCurrentProcess,GetVersion  Virus  \n",
       "1  GetCaretBlinkTime,CountClipboardFormats,GetCon...  Virus  \n",
       "2  VarR8Pow,GetClipboardViewer,GetInputDesktop,Ge...  Virus  \n",
       "3  SetTraceCallback,CopyAcceleratorTableW,GetProc...  Virus  \n",
       "4  SHLoadNonloadedIconOverlayIdentifiers,VarUI8Fr...  Virus  "
      ]
     },
     "execution_count": 18,
     "metadata": {},
     "output_type": "execute_result"
    }
   ],
   "source": [
    "ds.head()"
   ]
  },
  {
   "attachments": {},
   "cell_type": "markdown",
   "id": "86f122ba",
   "metadata": {},
   "source": [
    "##### El dataset cuenta unicamente con 3 columnas, no hay *null values*. Se procede a identificar las clases."
   ]
  },
  {
   "cell_type": "code",
   "execution_count": 19,
   "id": "f97a63bd",
   "metadata": {},
   "outputs": [
    {
     "data": {
      "text/plain": [
       "array(['Virus', 'Riskware', 'Spyware', 'Downloader', 'Dropper', 'Agent',\n",
       "       'Adware', 'Trojan', 'Backdoor', 'Worms', 'Ransomware', 'Keylogger',\n",
       "       'Crypt'], dtype=object)"
      ]
     },
     "execution_count": 19,
     "metadata": {},
     "output_type": "execute_result"
    }
   ],
   "source": [
    "ds[\"class\"].unique()"
   ]
  },
  {
   "cell_type": "code",
   "execution_count": 20,
   "id": "68800f3e",
   "metadata": {},
   "outputs": [
    {
     "data": {
      "text/plain": [
       "Trojan        6153\n",
       "Virus         2367\n",
       "Backdoor       447\n",
       "Worms          441\n",
       "Adware         222\n",
       "Agent          102\n",
       "Downloader      31\n",
       "Spyware         11\n",
       "Ransomware      10\n",
       "Riskware         4\n",
       "Dropper          4\n",
       "Crypt            2\n",
       "Keylogger        1\n",
       "Name: class, dtype: int64"
      ]
     },
     "execution_count": 20,
     "metadata": {},
     "output_type": "execute_result"
    }
   ],
   "source": [
    "ds[\"class\"].value_counts()"
   ]
  },
  {
   "attachments": {},
   "cell_type": "markdown",
   "id": "00fcb0fd",
   "metadata": {},
   "source": [
    "##### Se identifican 13 distintas clases. Dentro de estas se encuentran registros de clases poco representativos por lo que se procede a eliminar las clases con menos de 10 registros."
   ]
  },
  {
   "attachments": {},
   "cell_type": "markdown",
   "id": "3cb76d84",
   "metadata": {},
   "source": [
    "### Eliminacion de clases innecesarias"
   ]
  },
  {
   "cell_type": "code",
   "execution_count": 21,
   "id": "a6c3ebe3",
   "metadata": {},
   "outputs": [
    {
     "data": {
      "text/plain": [
       "Trojan        6153\n",
       "Virus         2367\n",
       "Backdoor       447\n",
       "Worms          441\n",
       "Adware         222\n",
       "Agent          102\n",
       "Downloader      31\n",
       "Spyware         11\n",
       "Ransomware      10\n",
       "Name: class, dtype: int64"
      ]
     },
     "execution_count": 21,
     "metadata": {},
     "output_type": "execute_result"
    }
   ],
   "source": [
    "ds.drop(ds[ds['class'] == 'Keylogger'].index, inplace = True)\n",
    "ds.drop(ds[ds['class'] == 'Crypt'].index, inplace = True)\n",
    "ds.drop(ds[ds['class'] == 'Dropper'].index, inplace = True)\n",
    "ds.drop(ds[ds['class'] == 'Riskware'].index, inplace = True)\n",
    "\n",
    "ds['class'].value_counts()"
   ]
  },
  {
   "attachments": {},
   "cell_type": "markdown",
   "id": "e05d106e",
   "metadata": {},
   "source": [
    "### Guardado de Sample"
   ]
  },
  {
   "cell_type": "code",
   "execution_count": 22,
   "id": "a5080035",
   "metadata": {},
   "outputs": [],
   "source": [
    "ds.to_csv('sample.csv', index=False)"
   ]
  },
  {
   "cell_type": "code",
   "execution_count": 27,
   "id": "1955b3a3",
   "metadata": {},
   "outputs": [],
   "source": [
    "from sklearn.preprocessing import LabelEncoder\n",
    "le = LabelEncoder()\n",
    "ds['class'] = le.fit_transform(ds['class'])"
   ]
  },
  {
   "attachments": {},
   "cell_type": "markdown",
   "id": "695f25d7",
   "metadata": {},
   "source": [
    "### Columnas cualitativas"
   ]
  },
  {
   "cell_type": "code",
   "execution_count": 23,
   "id": "6d0619ae",
   "metadata": {},
   "outputs": [
    {
     "data": {
      "text/html": [
       "<div>\n",
       "<style scoped>\n",
       "    .dataframe tbody tr th:only-of-type {\n",
       "        vertical-align: middle;\n",
       "    }\n",
       "\n",
       "    .dataframe tbody tr th {\n",
       "        vertical-align: top;\n",
       "    }\n",
       "\n",
       "    .dataframe thead th {\n",
       "        text-align: right;\n",
       "    }\n",
       "</style>\n",
       "<table border=\"1\" class=\"dataframe\">\n",
       "  <thead>\n",
       "    <tr style=\"text-align: right;\">\n",
       "      <th></th>\n",
       "      <th>file</th>\n",
       "      <th>api</th>\n",
       "      <th>class</th>\n",
       "    </tr>\n",
       "  </thead>\n",
       "  <tbody>\n",
       "    <tr>\n",
       "      <th>0</th>\n",
       "      <td>7ff49f2f0912352416b05c010f35f402cc79feed</td>\n",
       "      <td>IntersectRect,GetCurrentProcess,GetVersion</td>\n",
       "      <td>1</td>\n",
       "    </tr>\n",
       "    <tr>\n",
       "      <th>1</th>\n",
       "      <td>50cc6c99ec285d0db45dde07d8fdc18d9098c5b6</td>\n",
       "      <td>GetCaretBlinkTime,CountClipboardFormats,GetCon...</td>\n",
       "      <td>1</td>\n",
       "    </tr>\n",
       "    <tr>\n",
       "      <th>2</th>\n",
       "      <td>f77c6bd4aebacd1a01d02e0cb20642ebf2d32929</td>\n",
       "      <td>VarR8Pow,GetClipboardViewer,GetInputDesktop,Ge...</td>\n",
       "      <td>1</td>\n",
       "    </tr>\n",
       "    <tr>\n",
       "      <th>3</th>\n",
       "      <td>349c367c5b88fbb6cafae5d7109588d7250e16b5</td>\n",
       "      <td>SetTraceCallback,CopyAcceleratorTableW,GetProc...</td>\n",
       "      <td>1</td>\n",
       "    </tr>\n",
       "    <tr>\n",
       "      <th>4</th>\n",
       "      <td>021f4aa86b520e1d606ab26699c35546bcd00c27</td>\n",
       "      <td>SHLoadNonloadedIconOverlayIdentifiers,VarUI8Fr...</td>\n",
       "      <td>1</td>\n",
       "    </tr>\n",
       "  </tbody>\n",
       "</table>\n",
       "</div>"
      ],
      "text/plain": [
       "                                       file  \\\n",
       "0  7ff49f2f0912352416b05c010f35f402cc79feed   \n",
       "1  50cc6c99ec285d0db45dde07d8fdc18d9098c5b6   \n",
       "2  f77c6bd4aebacd1a01d02e0cb20642ebf2d32929   \n",
       "3  349c367c5b88fbb6cafae5d7109588d7250e16b5   \n",
       "4  021f4aa86b520e1d606ab26699c35546bcd00c27   \n",
       "\n",
       "                                                 api class  \n",
       "0         IntersectRect,GetCurrentProcess,GetVersion     1  \n",
       "1  GetCaretBlinkTime,CountClipboardFormats,GetCon...     1  \n",
       "2  VarR8Pow,GetClipboardViewer,GetInputDesktop,Ge...     1  \n",
       "3  SetTraceCallback,CopyAcceleratorTableW,GetProc...     1  \n",
       "4  SHLoadNonloadedIconOverlayIdentifiers,VarUI8Fr...     1  "
      ]
     },
     "execution_count": 23,
     "metadata": {},
     "output_type": "execute_result"
    }
   ],
   "source": [
    "for index, row in ds.iterrows():\n",
    "    if row['class'] == 'Trojan':\n",
    "        ds.loc[index,'class']= 0\n",
    "    elif row['class'] == 'Virus':\n",
    "        ds.loc[index,'class']= 1\n",
    "    elif row['class'] == 'Backdoor':\n",
    "        ds.loc[index,'class']= 2\n",
    "    elif row['class'] == 'Worms':\n",
    "        ds.loc[index,'class']= 3\n",
    "    elif row['class'] == 'Adware':\n",
    "        ds.loc[index,'class']= 4\n",
    "    elif row['class'] == 'Agent':\n",
    "        ds.loc[index,'class']= 5\n",
    "    elif row['class'] == 'Downloader':\n",
    "        ds.loc[index,'class']= 6\n",
    "    elif row['class'] == 'Spyware':\n",
    "        ds.loc[index,'class']= 7\n",
    "    elif row['class'] == 'Ransomware':\n",
    "        ds.loc[index,'class']= 8\n",
    "\n",
    "ds.head(5)"
   ]
  },
  {
   "attachments": {},
   "cell_type": "markdown",
   "id": "6253872c",
   "metadata": {},
   "source": [
    "### Balanceo de datos"
   ]
  },
  {
   "cell_type": "code",
   "execution_count": 28,
   "id": "27a444fd",
   "metadata": {},
   "outputs": [],
   "source": [
    "features = ds.loc[:, ds.columns != 'class']\n",
    "target = ds[\"class\"]"
   ]
  },
  {
   "cell_type": "code",
   "execution_count": 29,
   "id": "d93e8cf2",
   "metadata": {},
   "outputs": [
    {
     "data": {
      "text/html": [
       "<div>\n",
       "<style scoped>\n",
       "    .dataframe tbody tr th:only-of-type {\n",
       "        vertical-align: middle;\n",
       "    }\n",
       "\n",
       "    .dataframe tbody tr th {\n",
       "        vertical-align: top;\n",
       "    }\n",
       "\n",
       "    .dataframe thead th {\n",
       "        text-align: right;\n",
       "    }\n",
       "</style>\n",
       "<table border=\"1\" class=\"dataframe\">\n",
       "  <thead>\n",
       "    <tr style=\"text-align: right;\">\n",
       "      <th></th>\n",
       "      <th>0</th>\n",
       "      <th>1</th>\n",
       "    </tr>\n",
       "  </thead>\n",
       "  <tbody>\n",
       "    <tr>\n",
       "      <th>0</th>\n",
       "      <td>4918</td>\n",
       "      <td>1251</td>\n",
       "    </tr>\n",
       "    <tr>\n",
       "      <th>1</th>\n",
       "      <td>3124</td>\n",
       "      <td>604</td>\n",
       "    </tr>\n",
       "    <tr>\n",
       "      <th>2</th>\n",
       "      <td>9465</td>\n",
       "      <td>2525</td>\n",
       "    </tr>\n",
       "    <tr>\n",
       "      <th>3</th>\n",
       "      <td>2043</td>\n",
       "      <td>2265</td>\n",
       "    </tr>\n",
       "    <tr>\n",
       "      <th>4</th>\n",
       "      <td>83</td>\n",
       "      <td>2145</td>\n",
       "    </tr>\n",
       "    <tr>\n",
       "      <th>...</th>\n",
       "      <td>...</td>\n",
       "      <td>...</td>\n",
       "    </tr>\n",
       "    <tr>\n",
       "      <th>9779</th>\n",
       "      <td>2260</td>\n",
       "      <td>1627</td>\n",
       "    </tr>\n",
       "    <tr>\n",
       "      <th>9780</th>\n",
       "      <td>3255</td>\n",
       "      <td>2077</td>\n",
       "    </tr>\n",
       "    <tr>\n",
       "      <th>9781</th>\n",
       "      <td>8438</td>\n",
       "      <td>2737</td>\n",
       "    </tr>\n",
       "    <tr>\n",
       "      <th>9782</th>\n",
       "      <td>7908</td>\n",
       "      <td>1218</td>\n",
       "    </tr>\n",
       "    <tr>\n",
       "      <th>9783</th>\n",
       "      <td>7262</td>\n",
       "      <td>2321</td>\n",
       "    </tr>\n",
       "  </tbody>\n",
       "</table>\n",
       "<p>9784 rows × 2 columns</p>\n",
       "</div>"
      ],
      "text/plain": [
       "         0     1\n",
       "0     4918  1251\n",
       "1     3124   604\n",
       "2     9465  2525\n",
       "3     2043  2265\n",
       "4       83  2145\n",
       "...    ...   ...\n",
       "9779  2260  1627\n",
       "9780  3255  2077\n",
       "9781  8438  2737\n",
       "9782  7908  1218\n",
       "9783  7262  2321\n",
       "\n",
       "[9784 rows x 2 columns]"
      ]
     },
     "execution_count": 29,
     "metadata": {},
     "output_type": "execute_result"
    }
   ],
   "source": [
    "f_ds = pd.DataFrame(features,dtype=str)\n",
    "f_ds.apply(le.fit_transform)\n",
    "\n",
    "f_ds = pd.DataFrame(f_ds.apply(le.fit_transform).values[:,:])\n",
    "f_ds"
   ]
  },
  {
   "cell_type": "code",
   "execution_count": 36,
   "id": "2525428c",
   "metadata": {},
   "outputs": [],
   "source": [
    "from imblearn.over_sampling import SMOTE\n",
    "oversample = SMOTE(sampling_strategy = {0: 6153, 1: 2367, 2: 447, 3: 441, 4: 222, 5: 102, 6: 31, 7: 11, 8: 10})\n",
    "\n",
    "X, y = oversample.fit_resample(f_ds, target)"
   ]
  },
  {
   "cell_type": "code",
   "execution_count": 37,
   "id": "01dd38fe",
   "metadata": {},
   "outputs": [
    {
     "data": {
      "text/html": [
       "<div>\n",
       "<style scoped>\n",
       "    .dataframe tbody tr th:only-of-type {\n",
       "        vertical-align: middle;\n",
       "    }\n",
       "\n",
       "    .dataframe tbody tr th {\n",
       "        vertical-align: top;\n",
       "    }\n",
       "\n",
       "    .dataframe thead th {\n",
       "        text-align: right;\n",
       "    }\n",
       "</style>\n",
       "<table border=\"1\" class=\"dataframe\">\n",
       "  <thead>\n",
       "    <tr style=\"text-align: right;\">\n",
       "      <th></th>\n",
       "      <th>0</th>\n",
       "      <th>1</th>\n",
       "    </tr>\n",
       "  </thead>\n",
       "  <tbody>\n",
       "    <tr>\n",
       "      <th>0</th>\n",
       "      <td>0.502709</td>\n",
       "      <td>0.420929</td>\n",
       "    </tr>\n",
       "    <tr>\n",
       "      <th>1</th>\n",
       "      <td>0.319329</td>\n",
       "      <td>0.203230</td>\n",
       "    </tr>\n",
       "    <tr>\n",
       "      <th>2</th>\n",
       "      <td>0.967495</td>\n",
       "      <td>0.849596</td>\n",
       "    </tr>\n",
       "    <tr>\n",
       "      <th>3</th>\n",
       "      <td>0.208832</td>\n",
       "      <td>0.762113</td>\n",
       "    </tr>\n",
       "    <tr>\n",
       "      <th>4</th>\n",
       "      <td>0.008484</td>\n",
       "      <td>0.721736</td>\n",
       "    </tr>\n",
       "    <tr>\n",
       "      <th>...</th>\n",
       "      <td>...</td>\n",
       "      <td>...</td>\n",
       "    </tr>\n",
       "    <tr>\n",
       "      <th>9779</th>\n",
       "      <td>0.231013</td>\n",
       "      <td>0.547443</td>\n",
       "    </tr>\n",
       "    <tr>\n",
       "      <th>9780</th>\n",
       "      <td>0.332720</td>\n",
       "      <td>0.698856</td>\n",
       "    </tr>\n",
       "    <tr>\n",
       "      <th>9781</th>\n",
       "      <td>0.862517</td>\n",
       "      <td>0.920929</td>\n",
       "    </tr>\n",
       "    <tr>\n",
       "      <th>9782</th>\n",
       "      <td>0.808341</td>\n",
       "      <td>0.409825</td>\n",
       "    </tr>\n",
       "    <tr>\n",
       "      <th>9783</th>\n",
       "      <td>0.742308</td>\n",
       "      <td>0.780956</td>\n",
       "    </tr>\n",
       "  </tbody>\n",
       "</table>\n",
       "<p>9784 rows × 2 columns</p>\n",
       "</div>"
      ],
      "text/plain": [
       "             0         1\n",
       "0     0.502709  0.420929\n",
       "1     0.319329  0.203230\n",
       "2     0.967495  0.849596\n",
       "3     0.208832  0.762113\n",
       "4     0.008484  0.721736\n",
       "...        ...       ...\n",
       "9779  0.231013  0.547443\n",
       "9780  0.332720  0.698856\n",
       "9781  0.862517  0.920929\n",
       "9782  0.808341  0.409825\n",
       "9783  0.742308  0.780956\n",
       "\n",
       "[9784 rows x 2 columns]"
      ]
     },
     "execution_count": 37,
     "metadata": {},
     "output_type": "execute_result"
    }
   ],
   "source": [
    "from sklearn.preprocessing import MinMaxScaler\n",
    "\n",
    "scaler = MinMaxScaler()\n",
    "scaler.fit(X)\n",
    "\n",
    "f_ds = pd.DataFrame(scaler.transform(X))\n",
    "f_ds"
   ]
  },
  {
   "attachments": {},
   "cell_type": "markdown",
   "id": "a7bf16cf",
   "metadata": {},
   "source": [
    "#### Construccion de Modelos\n",
    "\n",
    "##### Se implementaron dos modelos distintos a los que se utilizaron en el articulo “*New Datasets for Dinamyc Malware Classification*”."
   ]
  },
  {
   "attachments": {},
   "cell_type": "markdown",
   "id": "18766a13",
   "metadata": {},
   "source": [
    "### Division de datasets"
   ]
  },
  {
   "cell_type": "code",
   "execution_count": 38,
   "id": "e811d14e",
   "metadata": {},
   "outputs": [],
   "source": [
    "from sklearn.model_selection import train_test_split\n",
    "x_train, x_test, y_train, y_test = train_test_split(f_ds, y, test_size=0.3, random_state=22)\n"
   ]
  },
  {
   "attachments": {},
   "cell_type": "markdown",
   "id": "ac404416",
   "metadata": {},
   "source": [
    "### Arbol de decision"
   ]
  },
  {
   "cell_type": "code",
   "execution_count": 40,
   "id": "7a7767cb",
   "metadata": {},
   "outputs": [
    {
     "data": {
      "text/plain": [
       "DecisionTreeClassifier()"
      ]
     },
     "execution_count": 40,
     "metadata": {},
     "output_type": "execute_result"
    }
   ],
   "source": [
    "from sklearn import tree\n",
    "clf_decision_tree = tree.DecisionTreeClassifier()\n",
    "clf_decision_tree.fit(x_train, y_train)"
   ]
  },
  {
   "attachments": {},
   "cell_type": "markdown",
   "id": "907b08ff",
   "metadata": {},
   "source": [
    "#### Prediccion"
   ]
  },
  {
   "cell_type": "code",
   "execution_count": 45,
   "id": "55d1358d",
   "metadata": {},
   "outputs": [],
   "source": [
    "predict_test = clf_decision_tree.predict(x_test)\n"
   ]
  },
  {
   "attachments": {},
   "cell_type": "markdown",
   "id": "68cccbb7",
   "metadata": {},
   "source": [
    "#### Accuracy de arbol de decision"
   ]
  },
  {
   "cell_type": "code",
   "execution_count": 47,
   "id": "e1e1302f",
   "metadata": {},
   "outputs": [
    {
     "data": {
      "text/plain": [
       "0.8719346049046321"
      ]
     },
     "execution_count": 47,
     "metadata": {},
     "output_type": "execute_result"
    }
   ],
   "source": [
    "metrics.accuracy_score(predict_test, y_test)"
   ]
  },
  {
   "attachments": {},
   "cell_type": "markdown",
   "id": "a74ef9a6",
   "metadata": {},
   "source": [
    "#### Matriz de confusion"
   ]
  },
  {
   "cell_type": "code",
   "execution_count": 51,
   "id": "2cf65399",
   "metadata": {},
   "outputs": [
    {
     "name": "stdout",
     "output_type": "stream",
     "text": [
      "              precision    recall  f1-score   support\n",
      "\n",
      "           0       0.91      0.92      0.91      1858\n",
      "           1       0.87      0.86      0.86       707\n",
      "           2       0.82      0.86      0.84       118\n",
      "           3       0.67      0.66      0.66       137\n",
      "           4       0.59      0.61      0.60        69\n",
      "           5       0.48      0.42      0.45        31\n",
      "           6       0.31      0.50      0.38         8\n",
      "           7       0.00      0.00      0.00         4\n",
      "           8       0.00      0.00      0.00         4\n",
      "\n",
      "    accuracy                           0.87      2936\n",
      "   macro avg       0.52      0.54      0.52      2936\n",
      "weighted avg       0.87      0.87      0.87      2936\n",
      "\n"
     ]
    }
   ],
   "source": [
    "from sklearn.metrics import *\n",
    "print(classification_report(y_test, predict_test))"
   ]
  },
  {
   "attachments": {},
   "cell_type": "markdown",
   "id": "dfd65e46",
   "metadata": {},
   "source": [
    "#### Cross validation y evaluacion"
   ]
  },
  {
   "cell_type": "code",
   "execution_count": 57,
   "id": "db8bf615",
   "metadata": {},
   "outputs": [
    {
     "data": {
      "text/plain": [
       "array([0.87883212, 0.88467153, 0.87883212, 0.86423358, 0.87153285,\n",
       "       0.86277372, 0.85985401, 0.84671533, 0.86695906, 0.87573099])"
      ]
     },
     "execution_count": 57,
     "metadata": {},
     "output_type": "execute_result"
    }
   ],
   "source": [
    "from sklearn.model_selection import KFold, cross_val_score\n",
    "cv = KFold(n_splits=10, random_state=1, shuffle=True)\n",
    "\n",
    "cross_val_score(clf_decision_tree, x_train, y_train, scoring='accuracy', cv=cv, n_jobs=-1)"
   ]
  },
  {
   "attachments": {},
   "cell_type": "markdown",
   "id": "e4764460",
   "metadata": {},
   "source": [
    "#### Resultados Decision Tree\n",
    "\n",
    "##### En este caso el que ha tenido mayor eficacia con respecto a la precision y recall ha sido el troyano con una accuracy de mas o menos 0.8 a diferencia del Naive Bayes ya que se tienen metricas altas en comparacion a los demas malware presentes en el dataset.\n",
    "\n"
   ]
  },
  {
   "attachments": {},
   "cell_type": "markdown",
   "id": "283767a0",
   "metadata": {},
   "source": [
    "### Naive Bayes"
   ]
  },
  {
   "cell_type": "code",
   "execution_count": 58,
   "id": "d2ec0dce",
   "metadata": {},
   "outputs": [
    {
     "data": {
      "text/plain": [
       "MultinomialNB()"
      ]
     },
     "execution_count": 58,
     "metadata": {},
     "output_type": "execute_result"
    }
   ],
   "source": [
    "from sklearn.naive_bayes import MultinomialNB\n",
    "\n",
    "naive_bayes = MultinomialNB()\n",
    "naive_bayes.fit(x_train, y_train)"
   ]
  },
  {
   "attachments": {},
   "cell_type": "markdown",
   "id": "92c1e0f1",
   "metadata": {},
   "source": [
    "#### Prediccion"
   ]
  },
  {
   "cell_type": "code",
   "execution_count": 62,
   "id": "272c46d8",
   "metadata": {},
   "outputs": [],
   "source": [
    "predict_test = naive_bayes.predict(x_test)"
   ]
  },
  {
   "attachments": {},
   "cell_type": "markdown",
   "id": "a631b6bb",
   "metadata": {},
   "source": [
    "#### Accuracy "
   ]
  },
  {
   "cell_type": "code",
   "execution_count": 64,
   "id": "e2a69e82",
   "metadata": {},
   "outputs": [
    {
     "data": {
      "text/plain": [
       "0.6328337874659401"
      ]
     },
     "execution_count": 64,
     "metadata": {},
     "output_type": "execute_result"
    }
   ],
   "source": [
    "metrics.accuracy_score(predict_test, y_test)"
   ]
  },
  {
   "attachments": {},
   "cell_type": "markdown",
   "id": "7bff4dfd",
   "metadata": {},
   "source": [
    "#### Cross validation y evaluacion"
   ]
  },
  {
   "cell_type": "code",
   "execution_count": 66,
   "id": "1862986a",
   "metadata": {},
   "outputs": [
    {
     "data": {
      "text/plain": [
       "array([0.60583942, 0.63649635, 0.62481752, 0.63357664, 0.63211679,\n",
       "       0.64963504, 0.60875912, 0.62189781, 0.63304094, 0.62573099])"
      ]
     },
     "execution_count": 66,
     "metadata": {},
     "output_type": "execute_result"
    }
   ],
   "source": [
    "cv = KFold(n_splits=10, random_state=1, shuffle=True)\n",
    "\n",
    "cross_val_score(naive_bayes, x_train, y_train, scoring='accuracy', cv=cv, n_jobs=-1)"
   ]
  },
  {
   "attachments": {},
   "cell_type": "markdown",
   "id": "1bac2f95",
   "metadata": {},
   "source": [
    "#### Resultados Naive Bayes\n",
    "\n",
    "##### Ahora con respecto a este modelo se tiene un accuracy de 0.63. De igual manera que en el modelo previo el malware que presenta una mayor precision, recall y fi-score ha sido el troyano, sus metricas se quedan en 0.\n"
   ]
  },
  {
   "attachments": {},
   "cell_type": "markdown",
   "id": "e21104f3",
   "metadata": {},
   "source": [
    "¿se lograron obtener mejores métricas que las obtenidas en el artículo para la clasificación de malware? \n",
    "\n",
    "No fue porible obtener un resultado mas alto en comparacion al del articulo. No obstante, se ha podido evidenciar que el malware troyano es el que presenta mejores metricas en los modelos, en el articulo fueron otros concretamente backdoor, agent y worms."
   ]
  }
 ],
 "metadata": {
  "kernelspec": {
   "display_name": "Python 3 (ipykernel)",
   "language": "python",
   "name": "python3"
  },
  "language_info": {
   "codemirror_mode": {
    "name": "ipython",
    "version": 3
   },
   "file_extension": ".py",
   "mimetype": "text/x-python",
   "name": "python",
   "nbconvert_exporter": "python",
   "pygments_lexer": "ipython3",
   "version": "3.9.10"
  }
 },
 "nbformat": 4,
 "nbformat_minor": 5
}
